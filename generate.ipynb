{
  "nbformat": 4,
  "nbformat_minor": 0,
  "metadata": {
    "colab": {
      "provenance": [],
      "gpuType": "T4",
      "authorship_tag": "ABX9TyPTmyjtQEqEMqKWhpeZ/sAZ",
      "include_colab_link": true
    },
    "kernelspec": {
      "name": "python3",
      "display_name": "Python 3"
    },
    "language_info": {
      "name": "python"
    },
    "accelerator": "GPU"
  },
  "cells": [
    {
      "cell_type": "markdown",
      "metadata": {
        "id": "view-in-github",
        "colab_type": "text"
      },
      "source": [
        "<a href=\"https://colab.research.google.com/github/yes-yay/CD-codes/blob/main/generate.ipynb\" target=\"_parent\"><img src=\"https://colab.research.google.com/assets/colab-badge.svg\" alt=\"Open In Colab\"/></a>"
      ]
    },
    {
      "cell_type": "code",
      "execution_count": null,
      "metadata": {
        "id": "c8roLulc6Xbo"
      },
      "outputs": [],
      "source": [
        "#sri rama jayam\n",
        "import torch\n",
        "import torch.nn as nn\n",
        "import torch.nn.functional as F"
      ]
    },
    {
      "cell_type": "code",
      "source": [
        "with open('TinyStories-train.txt','r' , encoding='utf-8') as f:\n",
        "  text=f.read()"
      ],
      "metadata": {
        "id": "v4ne8nk_6r6h"
      },
      "execution_count": null,
      "outputs": []
    },
    {
      "cell_type": "code",
      "source": [
        "len(text)"
      ],
      "metadata": {
        "colab": {
          "base_uri": "https://localhost:8080/"
        },
        "id": "Vmaekf567LwB",
        "outputId": "8f6fb36e-fec7-42da-9935-ecc6a236dfed"
      },
      "execution_count": null,
      "outputs": [
        {
          "output_type": "execute_result",
          "data": {
            "text/plain": [
              "809912972"
            ]
          },
          "metadata": {},
          "execution_count": 3
        }
      ]
    },
    {
      "cell_type": "code",
      "source": [
        "chars=sorted(list(set(text)))\n",
        "vocab_size=len(chars)\n",
        "print(''.join(chars))\n",
        "print(vocab_size)\n",
        "\n"
      ],
      "metadata": {
        "colab": {
          "base_uri": "https://localhost:8080/"
        },
        "id": "_sZyDCbK7QFU",
        "outputId": "2e5f15b0-5ba8-4438-afaf-40d765f03e76"
      },
      "execution_count": null,
      "outputs": [
        {
          "output_type": "stream",
          "name": "stdout",
          "text": [
            "\t\n",
            " !\"#$%&'()*+,-./0123456789:;<=>?@ABCDEFGHIJKLMNOPQRSTUVWXYZ[\\]_`abcdefghijklmnopqrstuvwxyz{|}~ ¡¢£§«­°´»¿ÂÉàáâéíïñóöāі   ​‎–—―‘’“”„…  ‪′−─」ﬁ﻿�𝑐🌴🌹🍌🙂\n",
            "152\n"
          ]
        }
      ]
    },
    {
      "cell_type": "code",
      "source": [
        "stoi= {ch:i for i,ch in enumerate(chars)}\n",
        "itos= {i:ch for i,ch in enumerate(chars)}\n",
        "\n",
        "encode=lambda s: [stoi[c] for c in s]\n",
        "decode=lambda l: ''.join([itos[i] for i in l])\n",
        "\n",
        "print(encode(\"hi macha\"))\n",
        "print(decode(encode(\"hi macha\")))"
      ],
      "metadata": {
        "colab": {
          "base_uri": "https://localhost:8080/"
        },
        "id": "zdHNMtZP7jZH",
        "outputId": "59f38884-d576-4f54-81d9-012a901bc9e6"
      },
      "execution_count": null,
      "outputs": [
        {
          "output_type": "stream",
          "name": "stdout",
          "text": [
            "[73, 74, 2, 78, 66, 68, 73, 66]\n",
            "hi macha\n"
          ]
        }
      ]
    },
    {
      "cell_type": "code",
      "source": [
        "text=torch.tensor(encode(text) , dtype=torch.long)"
      ],
      "metadata": {
        "id": "yWy-J5b7_PLN"
      },
      "execution_count": null,
      "outputs": []
    },
    {
      "cell_type": "code",
      "source": [
        "n=int(0.9 * len(text))\n",
        "train_data=text[:n]\n",
        "val_data=text[n:]\n"
      ],
      "metadata": {
        "id": "rrFwz44Q8eZ-"
      },
      "execution_count": null,
      "outputs": []
    },
    {
      "cell_type": "code",
      "source": [
        "block_size=8\n",
        "train_data[:block_size+1]"
      ],
      "metadata": {
        "id": "HhA2P2O09W84"
      },
      "execution_count": null,
      "outputs": []
    },
    {
      "cell_type": "code",
      "source": [
        "torch.manual_seed(1337)\n",
        "batch_size=4\n",
        "block_size=8\n",
        "\n",
        "def get_batch(split):\n",
        "    data = train_data if split == 'train' else val_data\n",
        "    ix = torch.randint(len(data) - block_size, (batch_size,))\n",
        "    x = torch.stack([data[i:i+block_size] for i in ix])\n",
        "    y = torch.stack([data[i+1:i+1+block_size] for i in ix])\n",
        "    return x, y"
      ],
      "metadata": {
        "id": "dkNR8Kb79sQy"
      },
      "execution_count": null,
      "outputs": []
    },
    {
      "cell_type": "code",
      "source": [
        "#self attention\n",
        "torch.manual_seed(1337)\n",
        "B,T,C = 4,8,32\n",
        "x=torch.randn(B,T,C)\n",
        "print(x.shape)\n",
        "\n",
        "head_size=16\n",
        "key=nn.Linear(C , head_size , bias=False)\n",
        "query=nn.Linear(C , head_size , bias=False)\n",
        "value=nn.Linear(C , head_size, bias=False)\n",
        "\n",
        "k=key(x) #(B,T,head_size)\n",
        "q=query(x) # same here also\n",
        "\n",
        "\n",
        "\n",
        "wei=q @ k.transpose(-2,-1) * head_size ** -0.5 # (B , T , 16) @ (B , 16 , T) = (B, T , T)\n",
        "\n",
        "wei=F.softmax(wei , dim=1)\n",
        "print(wei.shape)\n",
        "\n",
        "v=value(x)\n",
        "\n",
        "out=wei @ v\n",
        "out.shape\n"
      ],
      "metadata": {
        "id": "a--iBrkKA-ct"
      },
      "execution_count": null,
      "outputs": []
    },
    {
      "cell_type": "code",
      "source": [
        "batch_size = 64\n",
        "block_size = 256\n",
        "n_embed = 256\n",
        "n_heads = 8\n",
        "n_layers = 6\n",
        "dropout = 0.2\n",
        "learning_rate = 3e-4\n",
        "max_iters = 2000\n"
      ],
      "metadata": {
        "id": "1M0nhm5h20S0"
      },
      "execution_count": null,
      "outputs": []
    },
    {
      "cell_type": "code",
      "source": [
        "class Head(nn.Module):\n",
        "\n",
        "  def __init__(self , head_size):\n",
        "    super().__init__()\n",
        "    self.key=nn.Linear(n_embed , head_size , bias=False)\n",
        "    self.query=nn.Linear(n_embed , head_size , bias=False)\n",
        "    self.value=nn.Linear(n_embed , head_size , bias=False)\n",
        "    self.register_buffer('tril' , torch.tril(torch.ones(block_size , block_size)))\n",
        "\n",
        "  def forward(self , x):\n",
        "    B,T,C=x.shape\n",
        "    k=self.key(x)\n",
        "    q=self.query(x)\n",
        "    v=self.value(x)\n",
        "\n",
        "    wei= q @ k.transpose(-2,-1) * C ** -0.5\n",
        "    wei=wei.masked_fill(self.tril[:T,:T]==0 , float('-inf'))\n",
        "    wei=F.softmax(wei , dim=-1)\n",
        "\n",
        "    out=wei @ v\n",
        "    return out\n"
      ],
      "metadata": {
        "id": "z28WEB9YOiuy"
      },
      "execution_count": null,
      "outputs": []
    },
    {
      "cell_type": "code",
      "source": [
        "head_1 = torch.tensor([[[1, 2], [3, 4], [5, 6]]])  # Shape: (1, 3, 2)\n",
        "\n",
        "head_2 = torch.tensor([[[7, 8], [9, 10], [11, 12]]])  # Shape: (1, 3, 2)\n",
        "\n",
        "head_1.shape\n",
        "\n",
        "print(torch.cat((head_1 , head_2 ), dim=-1))\n",
        "print(torch.cat((head_1 , head_2) , dim=-2))"
      ],
      "metadata": {
        "colab": {
          "base_uri": "https://localhost:8080/"
        },
        "id": "V9gPgr0q-Hun",
        "outputId": "58a72291-1195-473a-b235-4fc811325fcc"
      },
      "execution_count": null,
      "outputs": [
        {
          "output_type": "stream",
          "name": "stdout",
          "text": [
            "tensor([[[ 1,  2,  7,  8],\n",
            "         [ 3,  4,  9, 10],\n",
            "         [ 5,  6, 11, 12]]])\n",
            "tensor([[[ 1,  2],\n",
            "         [ 3,  4],\n",
            "         [ 5,  6],\n",
            "         [ 7,  8],\n",
            "         [ 9, 10],\n",
            "         [11, 12]]])\n"
          ]
        }
      ]
    },
    {
      "cell_type": "code",
      "source": [
        "class MultiHeadAttention(nn.Module):\n",
        "  def __init__(self , num_heads , head_size):\n",
        "    super().__init__()\n",
        "    self.heads = nn.ModuleList([Head(head_size) for _ in range(num_heads)])\n",
        "    self.proj=nn.Linear(n_embed,n_embed)\n",
        "    self.dropout=nn.Dropout(dropout)\n",
        "\n",
        "  def forward(self , x):\n",
        "    out=torch.cat([h(x) for h in self.heads] , dim=-1)\n",
        "    out=self.dropout(self.proj(out))\n",
        "    return out"
      ],
      "metadata": {
        "id": "GRNaDVJD3GjF"
      },
      "execution_count": null,
      "outputs": []
    },
    {
      "cell_type": "code",
      "source": [
        "class FeedForward(nn.Module):\n",
        "    def __init__(self, n_embed):\n",
        "        super().__init__()\n",
        "        self.net = nn.Sequential(\n",
        "            nn.Linear(n_embed, 4 * n_embed),\n",
        "            nn.ReLU(),\n",
        "            nn.Linear(4 * n_embed, n_embed),\n",
        "            nn.Dropout(dropout),\n",
        "        )\n",
        "\n",
        "    def forward(self, x):\n",
        "        return self.net(x)\n"
      ],
      "metadata": {
        "id": "P_hUld4q8fbU"
      },
      "execution_count": null,
      "outputs": []
    },
    {
      "cell_type": "code",
      "source": [
        "class Block(nn.Module):\n",
        "    def __init__(self, n_embed, num_heads):\n",
        "        super().__init__()\n",
        "        head_size = n_embed // num_heads\n",
        "        self.sa = MultiHeadAttention(num_heads, head_size)\n",
        "        self.ffwd = FeedForward(n_embed)\n",
        "        self.ln1 = nn.LayerNorm(n_embed)\n",
        "        self.ln2 = nn.LayerNorm(n_embed)\n",
        "\n",
        "    def forward(self, x):\n",
        "        x = x + self.sa(self.ln1(x))\n",
        "        x = x + self.ffwd(self.ln2(x))\n",
        "        return x"
      ],
      "metadata": {
        "id": "Gw_3AJg08jvx"
      },
      "execution_count": null,
      "outputs": []
    },
    {
      "cell_type": "code",
      "source": [
        "class BigramLanguageModel(nn.Module):\n",
        "    def __init__(self):\n",
        "        super().__init__()\n",
        "        self.token_embedding = nn.Embedding(vocab_size, n_embed)\n",
        "        self.position_embedding = nn.Embedding(block_size, n_embed)\n",
        "        self.blocks = nn.Sequential(*[Block(n_embed, n_heads) for _ in range(n_layers)])\n",
        "        self.ln_f = nn.LayerNorm(n_embed)\n",
        "        self.lm_head = nn.Linear(n_embed, vocab_size)\n",
        "\n",
        "    def forward(self, idx, targets=None):\n",
        "        B, T = idx.shape\n",
        "        tok_emb = self.token_embedding(idx)\n",
        "        pos_emb = self.position_embedding(torch.arange(T, device=device))\n",
        "        x = tok_emb + pos_emb\n",
        "        x = self.blocks(x)\n",
        "        x = self.ln_f(x)\n",
        "        logits = self.lm_head(x)\n",
        "\n",
        "        if targets is None:\n",
        "            loss = None\n",
        "        else:\n",
        "            logits = logits.view(-1, vocab_size)\n",
        "            targets = targets.view(-1)\n",
        "            loss = F.cross_entropy(logits, targets)\n",
        "\n",
        "        return logits, loss\n",
        "\n",
        "    def generate(self, idx, max_new_tokens):\n",
        "        for _ in range(max_new_tokens):\n",
        "            idx_cond = idx[:, -block_size:]\n",
        "            logits, _ = self(idx_cond)\n",
        "            logits = logits[:, -1, :]\n",
        "            probs = F.softmax(logits, dim=-1)\n",
        "            idx_next = torch.multinomial(probs, num_samples=1)\n",
        "            idx = torch.cat((idx, idx_next), dim=1)\n",
        "        return idx"
      ],
      "metadata": {
        "id": "Glrmmm4lL1yd"
      },
      "execution_count": null,
      "outputs": []
    },
    {
      "cell_type": "code",
      "source": [
        "device='cuda' if torch.cuda.is_available() else 'cpu'"
      ],
      "metadata": {
        "id": "WbHHTbdh80ff"
      },
      "execution_count": null,
      "outputs": []
    },
    {
      "cell_type": "code",
      "source": [
        "model = BigramLanguageModel().to(device)\n",
        "optimizer = torch.optim.AdamW(model.parameters(), lr=learning_rate)"
      ],
      "metadata": {
        "id": "LmTHy-AK1udI"
      },
      "execution_count": null,
      "outputs": []
    },
    {
      "cell_type": "code",
      "source": [
        "for step in range(max_iters):\n",
        "    xb, yb = get_batch(\"train\")\n",
        "    xb = xb.to(device)\n",
        "    yb = yb.to(device)\n",
        "    logits, loss = model(xb, yb)\n",
        "    optimizer.zero_grad()\n",
        "    loss.backward()\n",
        "    optimizer.step()\n",
        "\n",
        "    if step % 250 == 0:\n",
        "        print(f\"Step {step}: Loss = {loss.item()}\")"
      ],
      "metadata": {
        "colab": {
          "base_uri": "https://localhost:8080/"
        },
        "id": "EBb1_Zro8mab",
        "outputId": "54d5ae9a-5625-4efc-9d70-677bde898042"
      },
      "execution_count": null,
      "outputs": [
        {
          "output_type": "stream",
          "name": "stdout",
          "text": [
            "Step 0: Loss = 1.187935471534729\n",
            "Step 250: Loss = 1.128569483757019\n",
            "Step 500: Loss = 1.1200956106185913\n",
            "Step 750: Loss = 1.0485488176345825\n",
            "Step 1000: Loss = 1.0203546285629272\n",
            "Step 1250: Loss = 1.060569405555725\n",
            "Step 1500: Loss = 1.083422064781189\n",
            "Step 1750: Loss = 0.974388599395752\n"
          ]
        }
      ]
    },
    {
      "cell_type": "code",
      "source": [
        "context = torch.zeros((1, 1), dtype=torch.long)\n",
        "\n",
        "context=context.to(device)\n",
        "\n",
        "# Generate 100 new tokens\n",
        "generated_indices = model.generate(context, max_new_tokens=100)\n",
        "\n",
        "# Decode it to text\n",
        "generated_text = decode(generated_indices[0].tolist())\n",
        "print(generated_text)\n"
      ],
      "metadata": {
        "colab": {
          "base_uri": "https://localhost:8080/",
          "height": 269
        },
        "id": "gEVjBL_89hlv",
        "outputId": "5ed8fe50-dcee-4342-96f7-e684ad6f1f9f"
      },
      "execution_count": null,
      "outputs": [
        {
          "output_type": "error",
          "ename": "RuntimeError",
          "evalue": "CUDA error: device-side assert triggered\nCUDA kernel errors might be asynchronously reported at some other API call, so the stacktrace below might be incorrect.\nFor debugging consider passing CUDA_LAUNCH_BLOCKING=1\nCompile with `TORCH_USE_CUDA_DSA` to enable device-side assertions.\n",
          "traceback": [
            "\u001b[0;31m---------------------------------------------------------------------------\u001b[0m",
            "\u001b[0;31mRuntimeError\u001b[0m                              Traceback (most recent call last)",
            "\u001b[0;32m<ipython-input-172-906b836edef3>\u001b[0m in \u001b[0;36m<cell line: 0>\u001b[0;34m()\u001b[0m\n\u001b[1;32m      1\u001b[0m \u001b[0mcontext\u001b[0m \u001b[0;34m=\u001b[0m \u001b[0mtorch\u001b[0m\u001b[0;34m.\u001b[0m\u001b[0mzeros\u001b[0m\u001b[0;34m(\u001b[0m\u001b[0;34m(\u001b[0m\u001b[0;36m1\u001b[0m\u001b[0;34m,\u001b[0m \u001b[0;36m1\u001b[0m\u001b[0;34m)\u001b[0m\u001b[0;34m,\u001b[0m \u001b[0mdtype\u001b[0m\u001b[0;34m=\u001b[0m\u001b[0mtorch\u001b[0m\u001b[0;34m.\u001b[0m\u001b[0mlong\u001b[0m\u001b[0;34m)\u001b[0m\u001b[0;34m\u001b[0m\u001b[0;34m\u001b[0m\u001b[0m\n\u001b[1;32m      2\u001b[0m \u001b[0;34m\u001b[0m\u001b[0m\n\u001b[0;32m----> 3\u001b[0;31m \u001b[0mcontext\u001b[0m\u001b[0;34m=\u001b[0m\u001b[0mcontext\u001b[0m\u001b[0;34m.\u001b[0m\u001b[0mto\u001b[0m\u001b[0;34m(\u001b[0m\u001b[0mdevice\u001b[0m\u001b[0;34m)\u001b[0m\u001b[0;34m\u001b[0m\u001b[0;34m\u001b[0m\u001b[0m\n\u001b[0m\u001b[1;32m      4\u001b[0m \u001b[0;34m\u001b[0m\u001b[0m\n\u001b[1;32m      5\u001b[0m \u001b[0;31m# Generate 100 new tokens\u001b[0m\u001b[0;34m\u001b[0m\u001b[0;34m\u001b[0m\u001b[0m\n",
            "\u001b[0;31mRuntimeError\u001b[0m: CUDA error: device-side assert triggered\nCUDA kernel errors might be asynchronously reported at some other API call, so the stacktrace below might be incorrect.\nFor debugging consider passing CUDA_LAUNCH_BLOCKING=1\nCompile with `TORCH_USE_CUDA_DSA` to enable device-side assertions.\n"
          ]
        }
      ]
    },
    {
      "cell_type": "code",
      "source": [],
      "metadata": {
        "id": "e1fkCWk2TB4C"
      },
      "execution_count": null,
      "outputs": []
    }
  ]
}